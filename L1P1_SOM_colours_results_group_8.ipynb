{
  "cells": [
    {
      "cell_type": "markdown",
      "metadata": {
        "id": "view-in-github",
        "colab_type": "text"
      },
      "source": [
        "<a href=\"https://colab.research.google.com/github/lauralp8/EXAMPLES/blob/main/L1P1_SOM_colours_results_group_8.ipynb\" target=\"_parent\"><img src=\"https://colab.research.google.com/assets/colab-badge.svg\" alt=\"Open In Colab\"/></a>"
      ]
    },
    {
      "cell_type": "markdown",
      "metadata": {
        "id": "qjFoxBuouM6D"
      },
      "source": [
        "# Practical work 0 - Self-Organising Maps\n",
        "## Enviroment preparation\n",
        "#### Libraries"
      ]
    },
    {
      "cell_type": "code",
      "execution_count": null,
      "metadata": {
        "id": "UTzp3SHsuM6E",
        "scrolled": true
      },
      "outputs": [],
      "source": [
        "# from __future__ import division\n",
        "\n",
        "import numpy as np\n",
        "from matplotlib import pyplot as plt\n",
        "from matplotlib import patches as patches\n",
        "from copy import deepcopy\n",
        "\n",
        "%matplotlib inline"
      ]
    },
    {
      "cell_type": "markdown",
      "metadata": {
        "id": "BUQTVdZ2uM6F"
      },
      "source": [
        "#### Create de training dataset"
      ]
    },
    {
      "cell_type": "code",
      "execution_count": null,
      "metadata": {
        "collapsed": true,
        "id": "Rtt9lLCluM6F",
        "outputId": "acf972db-9fa4-46eb-c08f-0e33f239be5c",
        "colab": {
          "base_uri": "https://localhost:8080/",
          "height": 110
        }
      },
      "outputs": [
        {
          "output_type": "error",
          "ename": "SyntaxError",
          "evalue": "invalid syntax (<ipython-input-3-08a08d7171fd>, line 5)",
          "traceback": [
            "\u001b[0;36m  File \u001b[0;32m\"<ipython-input-3-08a08d7171fd>\"\u001b[0;36m, line \u001b[0;32m5\u001b[0m\n\u001b[0;31m    color_values =\u001b[0m\n\u001b[0m                  ^\u001b[0m\n\u001b[0;31mSyntaxError\u001b[0m\u001b[0;31m:\u001b[0m invalid syntax\n"
          ]
        }
      ],
      "source": [
        "# Create a matrix of 100 random colors using the RGB code (values 0 to 255)\n",
        "\n",
        "min_value = 0\n",
        "max_value = 255\n",
        "color_values = 100\n",
        "num_colors =\n",
        "\n",
        "initial_data = np.random.randint(min_value, max_value, (color_values, num_colors))"
      ]
    },
    {
      "cell_type": "code",
      "execution_count": null,
      "metadata": {
        "id": "YinJXe5RwR3I",
        "outputId": "efef5595-3641-4ba9-b510-b8ea7d2df67c",
        "colab": {
          "base_uri": "https://localhost:8080/",
          "height": 146
        }
      },
      "outputs": [
        {
          "output_type": "error",
          "ename": "NameError",
          "evalue": "name 'initial_data' is not defined",
          "traceback": [
            "\u001b[0;31m---------------------------------------------------------------------------\u001b[0m",
            "\u001b[0;31mNameError\u001b[0m                                 Traceback (most recent call last)",
            "\u001b[0;32m<ipython-input-2-d82434a09b34>\u001b[0m in \u001b[0;36m<cell line: 1>\u001b[0;34m()\u001b[0m\n\u001b[0;32m----> 1\u001b[0;31m \u001b[0mprint\u001b[0m\u001b[0;34m(\u001b[0m\u001b[0minitial_data\u001b[0m\u001b[0;34m)\u001b[0m\u001b[0;34m\u001b[0m\u001b[0;34m\u001b[0m\u001b[0m\n\u001b[0m",
            "\u001b[0;31mNameError\u001b[0m: name 'initial_data' is not defined"
          ]
        }
      ],
      "source": [
        "print(initial_data)"
      ]
    },
    {
      "cell_type": "markdown",
      "metadata": {
        "id": "3nHZdpt9uM6F"
      },
      "source": [
        "## SOM Setup"
      ]
    },
    {
      "cell_type": "code",
      "execution_count": null,
      "metadata": {
        "collapsed": true,
        "id": "f6RTAjO3uM6F"
      },
      "outputs": [],
      "source": [
        "# Initialize the main variables: (1) the side of the Kohonen map, (2) number of iterations (epochs) and the (3) learning rate.\n",
        "# Initialize the variable normalize_data depending on whether you need to normalize the data or not.\n",
        "\n",
        "map_side =\n",
        "epochs =\n",
        "initial_lr =\n",
        "normalize_data = True"
      ]
    },
    {
      "cell_type": "code",
      "execution_count": null,
      "metadata": {
        "id": "WQt7pW8cx08T"
      },
      "outputs": [],
      "source": [
        "initial_data.shape"
      ]
    },
    {
      "cell_type": "markdown",
      "metadata": {
        "id": "vOGjf322uM6F"
      },
      "source": [
        "#### From this point there are only calculations. No more values ​​are inserted \"by hand\"."
      ]
    },
    {
      "cell_type": "code",
      "execution_count": null,
      "metadata": {
        "collapsed": true,
        "id": "DB2e4PQpuM6F"
      },
      "outputs": [],
      "source": [
        "# Set the number of inputs for the map and the number of data points to be used for training.\n",
        "# Use a function to automatically obtain the values from the Dataset.\n",
        "\n",
        "num_data =\n",
        "num_inputs =\n",
        "\n",
        "# Calculate the initial neighborhood. It should be half the size of the Kohonen map's size.\n",
        "initial_sigma =\n",
        "\n",
        "# Normalize the data if necessary by dividing each data point by the maximum value in the matrix.\n",
        "if normalize_data:\n",
        "    normalized_data =\n",
        "\n",
        "# Create a weight matrix with random values between 0 and 1. Use the random or random_uniform functions from the NumPy library.\n",
        "# More info (random.random):\n",
        "# More info (random.random_uniform):\n",
        "\n",
        "initial_weight_matrix =\n",
        "\n",
        "if normalize_data:\n",
        "  normalized_weight_matrix =\n",
        "\n",
        "output_index ="
      ]
    },
    {
      "cell_type": "code",
      "execution_count": null,
      "metadata": {
        "id": "XOnSuzmmwO9y"
      },
      "outputs": [],
      "source": [
        "print(normalized_data)"
      ]
    },
    {
      "cell_type": "code",
      "execution_count": null,
      "metadata": {
        "id": "yp-9WVi6zIoX"
      },
      "outputs": [],
      "source": [
        "print(normalized_weight_matrix)"
      ]
    },
    {
      "cell_type": "markdown",
      "metadata": {
        "id": "BsMcZmwYuM6F"
      },
      "source": [
        "#### Funciones para entrenar/clasificar"
      ]
    },
    {
      "cell_type": "code",
      "execution_count": null,
      "metadata": {
        "collapsed": true,
        "id": "j4AzBElwuM6G"
      },
      "outputs": [],
      "source": [
        "# Function to calculate the BMU.\n",
        "\n",
        "def calculate_bmu(\n",
        "    input_pattern,\n",
        "    weight_matrix):\n",
        "    \"\"\"\n",
        "    Finds the BMU (Best Matching Unit) for an input pattern on a Kohonen map.\n",
        "\n",
        "    Parameters:\n",
        "    input_pattern (numpy array): Input pattern to be compared with the weight vectors.\n",
        "    weight_matrix (numpy array): Matrix of weight vectors representing the Kohonen map.\n",
        "\n",
        "    Returns:\n",
        "    tuple: A tuple containing the BMU (Best Matching Unit) weight vector and its coordinates.\n",
        "    \"\"\"\n",
        "\n",
        "    return"
      ]
    },
    {
      "cell_type": "code",
      "execution_count": null,
      "metadata": {
        "collapsed": true,
        "id": "AMhureJOuM6G"
      },
      "outputs": [],
      "source": [
        "# Function to calculate the descent of the learning coefficient (alpha)\n",
        "\n",
        "def learning_rate_variation(\n",
        "    initial_lr,\n",
        "    i,\n",
        "    epochs):\n",
        "    \"\"\"\n",
        "    Calculate the learning rate (alpha) for the i-th iteration.\n",
        "\n",
        "    Parameters:\n",
        "    initial_lr (float): Initial learning rate.\n",
        "    i (int): Current iteration.\n",
        "    epochs (int): Total number of iterations.\n",
        "\n",
        "    Returns:\n",
        "    float: Learning rate for the i-th iteration.\n",
        "    \"\"\"\n",
        "    return"
      ]
    },
    {
      "cell_type": "code",
      "execution_count": null,
      "metadata": {
        "collapsed": true,
        "id": "oMiRPv6FuM6G"
      },
      "outputs": [],
      "source": [
        "# Función para calcular el descenso del vecindario (v)\n",
        "\n",
        "def neighborhood_variation(\n",
        "    initial_sigma,\n",
        "    i,\n",
        "    epochs):\n",
        "    \"\"\"\n",
        "    Calculate the neighborhood (v) for the i-th iteration.\n",
        "\n",
        "    Parameters:\n",
        "    initial_neighborhood (float): Initial neighborhood value.\n",
        "    i (int): Current iteration.\n",
        "    epochs (int): Total number of iterations.\n",
        "\n",
        "    Returns:\n",
        "    float: Neighborhood value for the i-th iteration.\n",
        "    \"\"\"\n",
        "    return"
      ]
    },
    {
      "cell_type": "code",
      "execution_count": null,
      "metadata": {
        "collapsed": true,
        "id": "fDdMzJ71uM6G"
      },
      "outputs": [],
      "source": [
        "# Topological Neighbourhood Function\n",
        "\n",
        "def decay(\n",
        "    distance_to_bmu,\n",
        "    current_neighborhood):\n",
        "    \"\"\"\n",
        "    Calculate the distribution of the learning rate based on the distance in the map between a neuron and the BMU.\n",
        "\n",
        "    Parameters:\n",
        "    distance_to_bmu (float): Distance between a neuron and the BMU.\n",
        "    current_neighborhood (float): Current neighborhood value.\n",
        "\n",
        "    Returns:\n",
        "    float: Damping factor for the iteration.\n",
        "    \"\"\"\n",
        "    return"
      ]
    },
    {
      "cell_type": "markdown",
      "metadata": {
        "id": "WnibKrzluM6G"
      },
      "source": [
        "#### Funciones para dibujar la salida de la red"
      ]
    },
    {
      "cell_type": "code",
      "execution_count": null,
      "metadata": {
        "collapsed": true,
        "id": "dhhczHxeuM6G"
      },
      "outputs": [],
      "source": [
        "# Function to print a matrix of values as RGB colors\n",
        "\n",
        "def paint_map(\n",
        "    value_matrix,\n",
        "    epochs):\n",
        "    \"\"\"\n",
        "    Function to visualize a matrix of values as RGB colors.\n",
        "\n",
        "    Parameters:\n",
        "    value_matrix (numpy array): Matrix of RGB values to be visualized.\n",
        "    epochs (int): Number of epochs (iterations) completed.\n",
        "\n",
        "    Returns:\n",
        "    None\n",
        "    \"\"\"\n",
        "\n",
        "    fig = plt.figure()\n",
        "\n",
        "    # Set axes\n",
        "    ax = fig.add_subplot(111, aspect='equal')\n",
        "    ax.set_xlim((0, value_matrix.shape[0]+1))\n",
        "    ax.set_ylim((0, value_matrix.shape[1]+1))\n",
        "    ax.set_title('Self-Organizing Map after %d iterations' % epochs)\n",
        "\n",
        "    for x in range(1, map_side + 1):\n",
        "      for y in range(1, map_side + 1):\n",
        "        print(value_matrix[x-1,y-1])\n",
        "        ax.add_patch(\n",
        "            patches.Rectangle((x-0.5, y-0.5), 1, 1,\n",
        "            facecolor = value_matrix[x-1,y-1,:],\n",
        "            edgecolor = 'none'))\n",
        "        i += 1\n",
        "\n",
        "    plt.show()"
      ]
    },
    {
      "cell_type": "markdown",
      "metadata": {
        "id": "puOJ6RRJuM6G"
      },
      "source": [
        "## SOM Training step"
      ]
    },
    {
      "cell_type": "code",
      "execution_count": null,
      "metadata": {
        "collapsed": true,
        "id": "F7P6aMgguM6G"
      },
      "outputs": [],
      "source": [
        "# Main loop for training\n"
      ]
    },
    {
      "cell_type": "markdown",
      "metadata": {
        "id": "Bb8KjQssuM6G"
      },
      "source": [
        "## SOM Classification step"
      ]
    },
    {
      "cell_type": "code",
      "execution_count": null,
      "metadata": {
        "collapsed": true,
        "id": "_5yGeC2uuM6G"
      },
      "outputs": [],
      "source": [
        "# Classify the training patterns with the newly trained weight matrix.\n"
      ]
    },
    {
      "cell_type": "markdown",
      "metadata": {
        "id": "DdGXFCuhuM6G"
      },
      "source": [
        "## SOM Test step"
      ]
    },
    {
      "cell_type": "code",
      "execution_count": null,
      "metadata": {
        "collapsed": true,
        "id": "ECAlagykuM6G"
      },
      "outputs": [],
      "source": [
        "# Classify new patterns\n",
        "\n"
      ]
    }
  ],
  "metadata": {
    "anaconda-cloud": {},
    "colab": {
      "provenance": [],
      "include_colab_link": true
    },
    "kernelspec": {
      "display_name": "Python 3",
      "language": "python",
      "name": "python3"
    },
    "language_info": {
      "codemirror_mode": {
        "name": "ipython",
        "version": 3
      },
      "file_extension": ".py",
      "mimetype": "text/x-python",
      "name": "python",
      "nbconvert_exporter": "python",
      "pygments_lexer": "ipython3",
      "version": "3.7.4"
    }
  },
  "nbformat": 4,
  "nbformat_minor": 0
}